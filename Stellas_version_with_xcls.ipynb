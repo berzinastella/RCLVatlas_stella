{
 "cells": [
  {
   "cell_type": "markdown",
   "id": "05ffbfe7-29d6-4f7e-8dab-83b4ea3f6497",
   "metadata": {},
   "source": [
    "# LAVD and RCLVs on ICON data"
   ]
  },
  {
   "cell_type": "markdown",
   "id": "74802c63-d5c3-4a4e-bea3-fa5ccbe9bc4c",
   "metadata": {},
   "source": [
    "Created on: 13.09.2024\n",
    "\n",
    "Last edited: 13.09.2024\n",
    "\n",
    "Created by: Stella Bērziņa (stella.berzina@usys.eth.ch)\n",
    "\n",
    "This notebook aims to document how to calculate LAVD fields from taking input velocity fields from ICON EERIE runs. After LAVD fields are calculated, RCLVs are identified in the fields. Tracking of the RCLVs is also shown. \n",
    "\n",
    "This notebook is heavily based on Lexi Jones-Kellett (MIT) example_usage.ipynb which is published along with her code. The functions in this notebook are a combination of **RCLVatlas** by Lexi Jones-Kellett (MIT) (https://github.com/lexi-jones/RCLVatlas) and **xlcs** by Philippe Miron (https://github.com/philippemiron/xlcs). Both initially use **Parcels**  (https://github.com/OceanParcels/Parcels) to create the Lagrangian trajectories and the **Floater** (https://github.com/ocean-transport/floater) to identify the RCLVs. \n",
    "\n",
    "My job here is to take the bits that I like from other people's work and alter it to work with the model output data that I have (which I also did not create). So thanks to about a million people for working for years so that I could do this."
   ]
  },
  {
   "cell_type": "markdown",
   "id": "414985b7-be4f-4715-ab45-68289e2b6c98",
   "metadata": {},
   "source": [
    "## Python Environment\n",
    "**DOCUMENT LATER**\n",
    "I would follow the installation steps noted down in RCLVatlas (https://github.com/lexi-jones/RCLVatlas) to have an environment where Parcels runs. \n",
    "Also, to make the intake library run, there are a couple of packages"
   ]
  },
  {
   "cell_type": "markdown",
   "id": "59449dad-3715-4d49-9a71-019a5e9969d5",
   "metadata": {},
   "source": [
    "## LAVD calculation\n",
    "\n",
    "**Input data:**  ICON, 0.25 regridded velocity fields from the intake catalog.\n",
    "\n",
    "**Output data:** lagrangian trajectories folder, LAVD field."
   ]
  },
  {
   "cell_type": "markdown",
   "id": "960824f3-a35d-40e3-b0b1-bb3eb28a314f",
   "metadata": {},
   "source": [
    "The run_parcels_CMEMC.py file is changed from the original by feeding in EERIE intake catalogue. "
   ]
  },
  {
   "cell_type": "markdown",
   "id": "816013a0-ce47-4ea5-9720-810251c889d9",
   "metadata": {},
   "source": []
  },
  {
   "cell_type": "code",
   "execution_count": null,
   "id": "c9e5be5c-6786-4239-afd4-20fa9fd0149e",
   "metadata": {},
   "outputs": [],
   "source": []
  },
  {
   "cell_type": "code",
   "execution_count": null,
   "id": "89759f50-fd11-4062-ac53-004ef79ed667",
   "metadata": {},
   "outputs": [],
   "source": []
  }
 ],
 "metadata": {
  "kernelspec": {
   "display_name": "parcels3.0.4",
   "language": "python",
   "name": "parcels2"
  },
  "language_info": {
   "codemirror_mode": {
    "name": "ipython",
    "version": 3
   },
   "file_extension": ".py",
   "mimetype": "text/x-python",
   "name": "python",
   "nbconvert_exporter": "python",
   "pygments_lexer": "ipython3",
   "version": "3.11.9"
  }
 },
 "nbformat": 4,
 "nbformat_minor": 5
}
